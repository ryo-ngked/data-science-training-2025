{
 "cells": [
  {
   "cell_type": "markdown",
   "id": "3ea8cce0",
   "metadata": {
    "papermill": {
     "duration": 0.005063,
     "end_time": "2025-08-11T07:26:37.670454",
     "exception": false,
     "start_time": "2025-08-11T07:26:37.665391",
     "status": "completed"
    },
    "tags": []
   },
   "source": [
    "**This notebook is an exercise in the [Intro to Programming](https://www.kaggle.com/learn/intro-to-programming) course.  You can reference the tutorial at [this link](https://www.kaggle.com/alexisbcook/functions).**\n",
    "\n",
    "---\n"
   ]
  },
  {
   "cell_type": "markdown",
   "id": "ac4bf8b2",
   "metadata": {
    "papermill": {
     "duration": 0.004151,
     "end_time": "2025-08-11T07:26:37.679554",
     "exception": false,
     "start_time": "2025-08-11T07:26:37.675403",
     "status": "completed"
    },
    "tags": []
   },
   "source": [
    "In the tutorial, you learned about functions. In this exercise, you'll write some of your own!\n",
    "\n",
    "# Set up the notebook\n",
    "\n",
    "Run the next code cell without changes to set up the notebook."
   ]
  },
  {
   "cell_type": "code",
   "execution_count": 1,
   "id": "d2580c52",
   "metadata": {
    "execution": {
     "iopub.execute_input": "2025-08-11T07:26:37.690845Z",
     "iopub.status.busy": "2025-08-11T07:26:37.690460Z",
     "iopub.status.idle": "2025-08-11T07:26:39.807886Z",
     "shell.execute_reply": "2025-08-11T07:26:39.806838Z"
    },
    "papermill": {
     "duration": 2.124254,
     "end_time": "2025-08-11T07:26:39.809290",
     "exception": false,
     "start_time": "2025-08-11T07:26:37.685036",
     "status": "completed"
    },
    "tags": []
   },
   "outputs": [
    {
     "name": "stdout",
     "output_type": "stream",
     "text": [
      "Setup complete.\n"
     ]
    }
   ],
   "source": [
    "# Set up the exercise\n",
    "import math\n",
    "from learntools.core import binder\n",
    "binder.bind(globals())\n",
    "from learntools.intro_to_programming.ex2 import *\n",
    "print('Setup complete.')"
   ]
  },
  {
   "cell_type": "markdown",
   "id": "324900a8",
   "metadata": {
    "papermill": {
     "duration": 0.003987,
     "end_time": "2025-08-11T07:26:39.817634",
     "exception": false,
     "start_time": "2025-08-11T07:26:39.813647",
     "status": "completed"
    },
    "tags": []
   },
   "source": [
    "# Question 1\n",
    "\n",
    "In the [House Prices - Advanced Regression Techniques competition](https://www.kaggle.com/c/house-prices-advanced-regression-techniques/overview), you need to use information like the number of bedrooms and bathrooms to predict the price of a house.  Inspired by this competition, you'll write your own function to do this.\n",
    "\n",
    "In the next code cell, create a function `get_expected_cost()` that has two arguments:\n",
    "- `beds` - number of bedrooms \n",
    "- `baths` - number of bathrooms\n",
    "\n",
    "It should return the expected cost of a house with that number of bedrooms and bathrooms.  Assume that:\n",
    "- the expected cost for a house with 0 bedrooms and 0 bathrooms is `80000`.  \n",
    "- each bedroom adds `30000` to the expected cost\n",
    "- each bathroom adds `10000` to the expected cost.\n",
    "\n",
    "For instance, \n",
    "- a house with 1 bedroom and 1 bathroom has an expected cost of `120000`, and \n",
    "- a house with 2 bedrooms and 1 bathroom has an expected cost of `150000`."
   ]
  },
  {
   "cell_type": "code",
   "execution_count": 2,
   "id": "1a4314f4",
   "metadata": {
    "execution": {
     "iopub.execute_input": "2025-08-11T07:26:39.827310Z",
     "iopub.status.busy": "2025-08-11T07:26:39.826880Z",
     "iopub.status.idle": "2025-08-11T07:26:39.835810Z",
     "shell.execute_reply": "2025-08-11T07:26:39.835043Z"
    },
    "papermill": {
     "duration": 0.015749,
     "end_time": "2025-08-11T07:26:39.837490",
     "exception": false,
     "start_time": "2025-08-11T07:26:39.821741",
     "status": "completed"
    },
    "tags": []
   },
   "outputs": [
    {
     "data": {
      "application/javascript": [
       "parent.postMessage({\"jupyterEvent\": \"custom.exercise_interaction\", \"data\": {\"outcomeType\": 1, \"valueTowardsCompletion\": 0.2, \"interactionType\": 1, \"questionType\": 2, \"questionId\": \"1_GetExpectedCost\", \"learnToolsVersion\": \"0.3.5\", \"failureMessage\": \"\", \"exceptionClass\": \"\", \"trace\": \"\"}}, \"*\")"
      ],
      "text/plain": [
       "<IPython.core.display.Javascript object>"
      ]
     },
     "metadata": {},
     "output_type": "display_data"
    },
    {
     "data": {
      "text/markdown": [
       "<span style=\"color:#33cc33\">Correct</span>"
      ],
      "text/plain": [
       "Correct"
      ]
     },
     "metadata": {},
     "output_type": "display_data"
    }
   ],
   "source": [
    "# TODO: Complete the function\n",
    "def get_expected_cost(beds, baths):\n",
    "    value = 80000 + beds * 30000 + baths * 10000\n",
    "    return value\n",
    "\n",
    "# Check your answer \n",
    "q1.check()"
   ]
  },
  {
   "cell_type": "code",
   "execution_count": 3,
   "id": "58fc6d80",
   "metadata": {
    "execution": {
     "iopub.execute_input": "2025-08-11T07:26:39.847748Z",
     "iopub.status.busy": "2025-08-11T07:26:39.847432Z",
     "iopub.status.idle": "2025-08-11T07:26:39.851862Z",
     "shell.execute_reply": "2025-08-11T07:26:39.850765Z"
    },
    "papermill": {
     "duration": 0.011428,
     "end_time": "2025-08-11T07:26:39.853494",
     "exception": false,
     "start_time": "2025-08-11T07:26:39.842066",
     "status": "completed"
    },
    "tags": []
   },
   "outputs": [],
   "source": [
    "# Uncomment to see a hint\n",
    "#q1.hint()\n",
    "\n",
    "# Uncomment to view the solution\n",
    "#q1.solution()"
   ]
  },
  {
   "cell_type": "markdown",
   "id": "29cf5902",
   "metadata": {
    "papermill": {
     "duration": 0.004441,
     "end_time": "2025-08-11T07:26:39.863302",
     "exception": false,
     "start_time": "2025-08-11T07:26:39.858861",
     "status": "completed"
    },
    "tags": []
   },
   "source": [
    "# Question 2\n",
    "\n",
    "You are thinking about buying a home and want to get an idea of how much you will spend, based on the number of bedrooms and bathrooms.  You are trying to decide between four different options:\n",
    "- Option 1: house with two bedrooms and three bathrooms\n",
    "- Option 2: house with three bedrooms and two bathrooms\n",
    "- Option 3: house with three bedrooms and three bathrooms\n",
    "- Option 4: house with three bedrooms and four bathrooms\n",
    "\n",
    "Use the `get_expected_cost()` function you defined in question 1 to set `option_1`, `option_2`, `option_3`, and `option_4` to the expected cost of each option."
   ]
  },
  {
   "cell_type": "code",
   "execution_count": 4,
   "id": "e9b61efe",
   "metadata": {
    "execution": {
     "iopub.execute_input": "2025-08-11T07:26:39.873307Z",
     "iopub.status.busy": "2025-08-11T07:26:39.873002Z",
     "iopub.status.idle": "2025-08-11T07:26:39.881461Z",
     "shell.execute_reply": "2025-08-11T07:26:39.880575Z"
    },
    "papermill": {
     "duration": 0.015157,
     "end_time": "2025-08-11T07:26:39.882844",
     "exception": false,
     "start_time": "2025-08-11T07:26:39.867687",
     "status": "completed"
    },
    "tags": []
   },
   "outputs": [
    {
     "name": "stdout",
     "output_type": "stream",
     "text": [
      "170000\n",
      "190000\n",
      "200000\n",
      "210000\n"
     ]
    },
    {
     "data": {
      "application/javascript": [
       "parent.postMessage({\"jupyterEvent\": \"custom.exercise_interaction\", \"data\": {\"outcomeType\": 1, \"valueTowardsCompletion\": 0.2, \"interactionType\": 1, \"questionType\": 1, \"questionId\": \"2_RunGetExpectedCost\", \"learnToolsVersion\": \"0.3.5\", \"failureMessage\": \"\", \"exceptionClass\": \"\", \"trace\": \"\"}}, \"*\")"
      ],
      "text/plain": [
       "<IPython.core.display.Javascript object>"
      ]
     },
     "metadata": {},
     "output_type": "display_data"
    },
    {
     "data": {
      "text/markdown": [
       "<span style=\"color:#33cc33\">Correct</span>"
      ],
      "text/plain": [
       "Correct"
      ]
     },
     "metadata": {},
     "output_type": "display_data"
    }
   ],
   "source": [
    "# TODO: Use the get_expected_cost function to fill in each value\n",
    "option_one = get_expected_cost(2, 3)\n",
    "option_two = get_expected_cost(3, 2)\n",
    "option_three = get_expected_cost(3, 3)\n",
    "option_four = get_expected_cost(3, 4)\n",
    "\n",
    "print(option_one)\n",
    "print(option_two)\n",
    "print(option_three)\n",
    "print(option_four)\n",
    "\n",
    "# Check your answer\n",
    "q2.check()"
   ]
  },
  {
   "cell_type": "code",
   "execution_count": 5,
   "id": "2ef0530e",
   "metadata": {
    "execution": {
     "iopub.execute_input": "2025-08-11T07:26:39.894375Z",
     "iopub.status.busy": "2025-08-11T07:26:39.894022Z",
     "iopub.status.idle": "2025-08-11T07:26:39.898180Z",
     "shell.execute_reply": "2025-08-11T07:26:39.897358Z"
    },
    "papermill": {
     "duration": 0.011121,
     "end_time": "2025-08-11T07:26:39.899572",
     "exception": false,
     "start_time": "2025-08-11T07:26:39.888451",
     "status": "completed"
    },
    "tags": []
   },
   "outputs": [],
   "source": [
    "# Uncomment to see a hint\n",
    "#q2.hint()\n",
    "\n",
    "# Uncomment to view the solution\n",
    "#q2.solution()"
   ]
  },
  {
   "cell_type": "markdown",
   "id": "8315700f",
   "metadata": {
    "papermill": {
     "duration": 0.004531,
     "end_time": "2025-08-11T07:26:39.908918",
     "exception": false,
     "start_time": "2025-08-11T07:26:39.904387",
     "status": "completed"
    },
    "tags": []
   },
   "source": [
    "# Question 3\n",
    "\n",
    "You're a home decorator, and you'd like to use Python to streamline some of your work.  Specifically, you're creating a tool that you intend to use to calculate the cost of painting a room.\n",
    "\n",
    "As a first step, define a function `get_cost()` that takes as input:\n",
    "- `sqft_walls` = total square feet of walls to be painted\n",
    "- `sqft_ceiling` = square feet of ceiling to be painted\n",
    "- `sqft_per_gallon` = number of square feet that you can cover with one gallon of paint\n",
    "- `cost_per_gallon` = cost (in dollars) of one gallon of paint\n",
    "\n",
    "It should return the cost (in dollars) of putting one coat of paint on all walls and the ceiling.  Assume you can buy the exact amount of paint that you need, so you can buy partial gallons (e.g., if you need 7.523 gallons, you can buy that exact amount, instead of needing to buy 8 gallons and waste some paint).  Do not round your answer."
   ]
  },
  {
   "cell_type": "code",
   "execution_count": 6,
   "id": "5206e14b",
   "metadata": {
    "execution": {
     "iopub.execute_input": "2025-08-11T07:26:39.919482Z",
     "iopub.status.busy": "2025-08-11T07:26:39.919129Z",
     "iopub.status.idle": "2025-08-11T07:26:39.927116Z",
     "shell.execute_reply": "2025-08-11T07:26:39.926174Z"
    },
    "papermill": {
     "duration": 0.015091,
     "end_time": "2025-08-11T07:26:39.928610",
     "exception": false,
     "start_time": "2025-08-11T07:26:39.913519",
     "status": "completed"
    },
    "tags": []
   },
   "outputs": [
    {
     "data": {
      "application/javascript": [
       "parent.postMessage({\"jupyterEvent\": \"custom.exercise_interaction\", \"data\": {\"outcomeType\": 1, \"valueTowardsCompletion\": 0.2, \"interactionType\": 1, \"questionType\": 2, \"questionId\": \"3_GetCostPaint\", \"learnToolsVersion\": \"0.3.5\", \"failureMessage\": \"\", \"exceptionClass\": \"\", \"trace\": \"\"}}, \"*\")"
      ],
      "text/plain": [
       "<IPython.core.display.Javascript object>"
      ]
     },
     "metadata": {},
     "output_type": "display_data"
    },
    {
     "data": {
      "text/markdown": [
       "<span style=\"color:#33cc33\">Correct</span>"
      ],
      "text/plain": [
       "Correct"
      ]
     },
     "metadata": {},
     "output_type": "display_data"
    }
   ],
   "source": [
    "# TODO: Finish defining the function\n",
    "def get_cost(sqft_walls, sqft_ceiling, sqft_per_gallon, cost_per_gallon):\n",
    "    cost = ( sqft_walls + sqft_ceiling ) / sqft_per_gallon * cost_per_gallon\n",
    "    return cost\n",
    "\n",
    "# Check your answer\n",
    "q3.check()"
   ]
  },
  {
   "cell_type": "code",
   "execution_count": 7,
   "id": "096ad7aa",
   "metadata": {
    "execution": {
     "iopub.execute_input": "2025-08-11T07:26:39.939780Z",
     "iopub.status.busy": "2025-08-11T07:26:39.939451Z",
     "iopub.status.idle": "2025-08-11T07:26:39.949161Z",
     "shell.execute_reply": "2025-08-11T07:26:39.948264Z"
    },
    "papermill": {
     "duration": 0.017203,
     "end_time": "2025-08-11T07:26:39.950830",
     "exception": false,
     "start_time": "2025-08-11T07:26:39.933627",
     "status": "completed"
    },
    "tags": []
   },
   "outputs": [
    {
     "data": {
      "application/javascript": [
       "parent.postMessage({\"jupyterEvent\": \"custom.exercise_interaction\", \"data\": {\"interactionType\": 2, \"questionType\": 2, \"questionId\": \"3_GetCostPaint\", \"learnToolsVersion\": \"0.3.5\", \"valueTowardsCompletion\": 0.0, \"failureMessage\": \"\", \"exceptionClass\": \"\", \"trace\": \"\", \"outcomeType\": 4}}, \"*\")"
      ],
      "text/plain": [
       "<IPython.core.display.Javascript object>"
      ]
     },
     "metadata": {},
     "output_type": "display_data"
    },
    {
     "data": {
      "text/markdown": [
       "<span style=\"color:#3366cc\">Hint:</span> Begin by calculating the total number of square feet that need to be painted. Then, based on that, figure out how many gallons you need.  Then, once you know how many gallons you need, you can calculate the total cost of the project."
      ],
      "text/plain": [
       "Hint: Begin by calculating the total number of square feet that need to be painted. Then, based on that, figure out how many gallons you need.  Then, once you know how many gallons you need, you can calculate the total cost of the project."
      ]
     },
     "metadata": {},
     "output_type": "display_data"
    },
    {
     "data": {
      "application/javascript": [
       "parent.postMessage({\"jupyterEvent\": \"custom.exercise_interaction\", \"data\": {\"interactionType\": 3, \"questionType\": 2, \"questionId\": \"3_GetCostPaint\", \"learnToolsVersion\": \"0.3.5\", \"valueTowardsCompletion\": 0.0, \"failureMessage\": \"\", \"exceptionClass\": \"\", \"trace\": \"\", \"outcomeType\": 4}}, \"*\")"
      ],
      "text/plain": [
       "<IPython.core.display.Javascript object>"
      ]
     },
     "metadata": {},
     "output_type": "display_data"
    },
    {
     "data": {
      "text/markdown": [
       "<span style=\"color:#33cc99\">Solution:</span> \n",
       "```python\n",
       "\n",
       "def get_cost(sqft_walls, sqft_ceiling, sqft_per_gallon, cost_per_gallon):\n",
       "    total_sqft = sqft_walls + sqft_ceiling\n",
       "    gallons_needed = total_sqft / sqft_per_gallon\n",
       "    cost = cost_per_gallon * gallons_needed\n",
       "    return cost\n",
       "\n",
       "```"
      ],
      "text/plain": [
       "Solution: \n",
       "```python\n",
       "\n",
       "def get_cost(sqft_walls, sqft_ceiling, sqft_per_gallon, cost_per_gallon):\n",
       "    total_sqft = sqft_walls + sqft_ceiling\n",
       "    gallons_needed = total_sqft / sqft_per_gallon\n",
       "    cost = cost_per_gallon * gallons_needed\n",
       "    return cost\n",
       "\n",
       "```"
      ]
     },
     "metadata": {},
     "output_type": "display_data"
    }
   ],
   "source": [
    "# Uncomment to see a hint\n",
    "q3.hint()\n",
    "\n",
    "# Uncomment to view the solution\n",
    "q3.solution()"
   ]
  },
  {
   "cell_type": "markdown",
   "id": "05b52a55",
   "metadata": {
    "papermill": {
     "duration": 0.005053,
     "end_time": "2025-08-11T07:26:39.961391",
     "exception": false,
     "start_time": "2025-08-11T07:26:39.956338",
     "status": "completed"
    },
    "tags": []
   },
   "source": [
    "# Question 4\n",
    "\n",
    "Use the `get_cost()` function you defined in Question 3 to calculate the cost of applying one coat of paint to a room with:\n",
    "- 432 square feet of walls, and\n",
    "- 144 square feet of ceiling.\n",
    "\n",
    "Assume that one gallon of paint covers 400 square feet and costs $15.  As in Question 3, assume you can buy partial gallons of paint.  Do not round your answer."
   ]
  },
  {
   "cell_type": "code",
   "execution_count": 8,
   "id": "36f236d0",
   "metadata": {
    "execution": {
     "iopub.execute_input": "2025-08-11T07:26:39.973238Z",
     "iopub.status.busy": "2025-08-11T07:26:39.972864Z",
     "iopub.status.idle": "2025-08-11T07:26:39.980626Z",
     "shell.execute_reply": "2025-08-11T07:26:39.979864Z"
    },
    "papermill": {
     "duration": 0.015657,
     "end_time": "2025-08-11T07:26:39.982270",
     "exception": false,
     "start_time": "2025-08-11T07:26:39.966613",
     "status": "completed"
    },
    "tags": []
   },
   "outputs": [
    {
     "data": {
      "application/javascript": [
       "parent.postMessage({\"jupyterEvent\": \"custom.exercise_interaction\", \"data\": {\"outcomeType\": 1, \"valueTowardsCompletion\": 0.2, \"interactionType\": 1, \"questionType\": 1, \"questionId\": \"4_GetCostPaintExample\", \"learnToolsVersion\": \"0.3.5\", \"failureMessage\": \"\", \"exceptionClass\": \"\", \"trace\": \"\"}}, \"*\")"
      ],
      "text/plain": [
       "<IPython.core.display.Javascript object>"
      ]
     },
     "metadata": {},
     "output_type": "display_data"
    },
    {
     "data": {
      "text/markdown": [
       "<span style=\"color:#33cc33\">Correct</span>"
      ],
      "text/plain": [
       "Correct"
      ]
     },
     "metadata": {},
     "output_type": "display_data"
    }
   ],
   "source": [
    "# TODO: Set the project_cost variable to the cost of the project\n",
    "project_cost = get_cost ( 432, 144, 400,15)\n",
    "\n",
    "# Check your answer\n",
    "q4.check()"
   ]
  },
  {
   "cell_type": "code",
   "execution_count": 9,
   "id": "ea94b187",
   "metadata": {
    "execution": {
     "iopub.execute_input": "2025-08-11T07:26:39.994653Z",
     "iopub.status.busy": "2025-08-11T07:26:39.994359Z",
     "iopub.status.idle": "2025-08-11T07:26:39.998541Z",
     "shell.execute_reply": "2025-08-11T07:26:39.997558Z"
    },
    "papermill": {
     "duration": 0.012279,
     "end_time": "2025-08-11T07:26:40.000266",
     "exception": false,
     "start_time": "2025-08-11T07:26:39.987987",
     "status": "completed"
    },
    "tags": []
   },
   "outputs": [],
   "source": [
    "# Uncomment to see a hint\n",
    "#q4.hint()\n",
    "\n",
    "# Uncomment to view the solution\n",
    "#q4.solution()"
   ]
  },
  {
   "cell_type": "markdown",
   "id": "a3a7bf47",
   "metadata": {
    "papermill": {
     "duration": 0.005321,
     "end_time": "2025-08-11T07:26:40.011109",
     "exception": false,
     "start_time": "2025-08-11T07:26:40.005788",
     "status": "completed"
    },
    "tags": []
   },
   "source": [
    "# 🌶️ Question 5\n",
    "\n",
    "Now say you can no longer buy fractions of a gallon.  (For instance, if you need 4.3 gallons to do a project, then you have to buy 5 gallons of paint.)\n",
    "\n",
    "With this new scenario, you will create a new function `get_actual_cost` that uses the same inputs and calculates the cost of your project.\n",
    "\n",
    "One function that you'll need to use to do this is `math.ceil()`.  We demonstrate usage of this function in the code cell below.  It takes as a number as input and rounds the number up to the nearest integer.  \n",
    "\n",
    "Run the next code cell to test this function for yourself.  Feel free to change the value of `test_value` and make sure `math.ceil()` returns the number you expect."
   ]
  },
  {
   "cell_type": "code",
   "execution_count": 10,
   "id": "e42f6f0f",
   "metadata": {
    "execution": {
     "iopub.execute_input": "2025-08-11T07:26:40.024056Z",
     "iopub.status.busy": "2025-08-11T07:26:40.023701Z",
     "iopub.status.idle": "2025-08-11T07:26:40.029222Z",
     "shell.execute_reply": "2025-08-11T07:26:40.028017Z"
    },
    "papermill": {
     "duration": 0.013934,
     "end_time": "2025-08-11T07:26:40.031106",
     "exception": false,
     "start_time": "2025-08-11T07:26:40.017172",
     "status": "completed"
    },
    "tags": []
   },
   "outputs": [
    {
     "name": "stdout",
     "output_type": "stream",
     "text": [
      "3\n"
     ]
    }
   ],
   "source": [
    "test_value = 2.17\n",
    "\n",
    "rounded_value = math.ceil(test_value)\n",
    "print(rounded_value)"
   ]
  },
  {
   "cell_type": "markdown",
   "id": "0e5408c9",
   "metadata": {
    "papermill": {
     "duration": 0.005322,
     "end_time": "2025-08-11T07:26:40.042185",
     "exception": false,
     "start_time": "2025-08-11T07:26:40.036863",
     "status": "completed"
    },
    "tags": []
   },
   "source": [
    "Use the next code cell to define the function `get_actual_cost()`.  You'll need to use the `math.ceil()` function to do this.\n",
    "\n",
    "When answering this question, note that it's completely valid to define a function that makes use of another function.  For instance, we can define a function `round_up_and_divide_by_three` that makes use of the `math.ceil` function:\n",
    "```\n",
    "def round_up_and_divide_by_three(num):\n",
    "    new_value = math.ceil(num)\n",
    "    final_value = new_value / 3\n",
    "    return final_value\n",
    "```"
   ]
  },
  {
   "cell_type": "code",
   "execution_count": 11,
   "id": "acb885d9",
   "metadata": {
    "execution": {
     "iopub.execute_input": "2025-08-11T07:26:40.054408Z",
     "iopub.status.busy": "2025-08-11T07:26:40.054047Z",
     "iopub.status.idle": "2025-08-11T07:26:40.062569Z",
     "shell.execute_reply": "2025-08-11T07:26:40.061054Z"
    },
    "papermill": {
     "duration": 0.016395,
     "end_time": "2025-08-11T07:26:40.064086",
     "exception": false,
     "start_time": "2025-08-11T07:26:40.047691",
     "status": "completed"
    },
    "tags": []
   },
   "outputs": [
    {
     "data": {
      "application/javascript": [
       "parent.postMessage({\"jupyterEvent\": \"custom.exercise_interaction\", \"data\": {\"outcomeType\": 1, \"valueTowardsCompletion\": 0.2, \"interactionType\": 1, \"questionType\": 2, \"questionId\": \"5_NoMoreFractions\", \"learnToolsVersion\": \"0.3.5\", \"failureMessage\": \"\", \"exceptionClass\": \"\", \"trace\": \"\"}}, \"*\")"
      ],
      "text/plain": [
       "<IPython.core.display.Javascript object>"
      ]
     },
     "metadata": {},
     "output_type": "display_data"
    },
    {
     "data": {
      "text/markdown": [
       "<span style=\"color:#33cc33\">Correct</span>"
      ],
      "text/plain": [
       "Correct"
      ]
     },
     "metadata": {},
     "output_type": "display_data"
    }
   ],
   "source": [
    "def get_actual_cost(sqft_walls, sqft_ceiling, sqft_per_gallon, cost_per_gallon):\n",
    "    total_sqft = sqft_walls + sqft_ceiling\n",
    "    gallon_needed = total_sqft / sqft_per_gallon\n",
    "    actual_gallon_needed = math.ceil(gallon_needed)\n",
    "    cost = actual_gallon_needed * cost_per_gallon\n",
    "    return cost\n",
    "\n",
    "# Check your answer\n",
    "q5.check()"
   ]
  },
  {
   "cell_type": "code",
   "execution_count": 12,
   "id": "5778fc1a",
   "metadata": {
    "execution": {
     "iopub.execute_input": "2025-08-11T07:26:40.076669Z",
     "iopub.status.busy": "2025-08-11T07:26:40.076394Z",
     "iopub.status.idle": "2025-08-11T07:26:40.080353Z",
     "shell.execute_reply": "2025-08-11T07:26:40.079496Z"
    },
    "papermill": {
     "duration": 0.012,
     "end_time": "2025-08-11T07:26:40.081895",
     "exception": false,
     "start_time": "2025-08-11T07:26:40.069895",
     "status": "completed"
    },
    "tags": []
   },
   "outputs": [],
   "source": [
    "# Uncomment to see a hint\n",
    "#q5.hint()\n",
    "\n",
    "# Uncomment to view the solution\n",
    "#q5.solution()"
   ]
  },
  {
   "cell_type": "markdown",
   "id": "88af26be",
   "metadata": {
    "papermill": {
     "duration": 0.005472,
     "end_time": "2025-08-11T07:26:40.093186",
     "exception": false,
     "start_time": "2025-08-11T07:26:40.087714",
     "status": "completed"
    },
    "tags": []
   },
   "source": [
    "Once your function is verified as correct, run the next code cell to calculate the updated cost of your project."
   ]
  },
  {
   "cell_type": "code",
   "execution_count": 13,
   "id": "d1fe9281",
   "metadata": {
    "execution": {
     "iopub.execute_input": "2025-08-11T07:26:40.105938Z",
     "iopub.status.busy": "2025-08-11T07:26:40.105514Z",
     "iopub.status.idle": "2025-08-11T07:26:40.111145Z",
     "shell.execute_reply": "2025-08-11T07:26:40.109780Z"
    },
    "papermill": {
     "duration": 0.014256,
     "end_time": "2025-08-11T07:26:40.113149",
     "exception": false,
     "start_time": "2025-08-11T07:26:40.098893",
     "status": "completed"
    },
    "tags": []
   },
   "outputs": [
    {
     "name": "stdout",
     "output_type": "stream",
     "text": [
      "30\n"
     ]
    }
   ],
   "source": [
    "small_room = get_actual_cost(432, 144, 400, 15) \n",
    "print (small_room)"
   ]
  },
  {
   "cell_type": "markdown",
   "id": "ebb5e9d5",
   "metadata": {
    "papermill": {
     "duration": 0.006123,
     "end_time": "2025-08-11T07:26:40.125825",
     "exception": false,
     "start_time": "2025-08-11T07:26:40.119702",
     "status": "completed"
    },
    "tags": []
   },
   "source": [
    "Say you're working with a slightly larger room.  Run the next code cell to calculate the cost of the project."
   ]
  },
  {
   "cell_type": "code",
   "execution_count": 14,
   "id": "baff069d",
   "metadata": {
    "execution": {
     "iopub.execute_input": "2025-08-11T07:26:40.139212Z",
     "iopub.status.busy": "2025-08-11T07:26:40.138833Z",
     "iopub.status.idle": "2025-08-11T07:26:40.144162Z",
     "shell.execute_reply": "2025-08-11T07:26:40.143067Z"
    },
    "papermill": {
     "duration": 0.014436,
     "end_time": "2025-08-11T07:26:40.146299",
     "exception": false,
     "start_time": "2025-08-11T07:26:40.131863",
     "status": "completed"
    },
    "tags": []
   },
   "outputs": [
    {
     "name": "stdout",
     "output_type": "stream",
     "text": [
      "45\n"
     ]
    }
   ],
   "source": [
    "big_room = get_actual_cost(594, 288, 400, 15) \n",
    "print(big_room)"
   ]
  },
  {
   "cell_type": "markdown",
   "id": "fddbc7ac",
   "metadata": {
    "papermill": {
     "duration": 0.005536,
     "end_time": "2025-08-11T07:26:40.157799",
     "exception": false,
     "start_time": "2025-08-11T07:26:40.152263",
     "status": "completed"
    },
    "tags": []
   },
   "source": [
    "# Keep going\n",
    "\n",
    "Continue to learn about **[data types](https://www.kaggle.com/alexisbcook/data-types)**."
   ]
  },
  {
   "cell_type": "markdown",
   "id": "81ec71ad",
   "metadata": {
    "papermill": {
     "duration": 0.005477,
     "end_time": "2025-08-11T07:26:40.169014",
     "exception": false,
     "start_time": "2025-08-11T07:26:40.163537",
     "status": "completed"
    },
    "tags": []
   },
   "source": [
    "---\n",
    "\n",
    "\n",
    "\n",
    "\n",
    "*Have questions or comments? Visit the [course discussion forum](https://www.kaggle.com/learn/intro-to-programming/discussion) to chat with other learners.*"
   ]
  }
 ],
 "metadata": {
  "kaggle": {
   "accelerator": "none",
   "dataSources": [],
   "isGpuEnabled": false,
   "isInternetEnabled": false,
   "language": "python",
   "sourceType": "notebook"
  },
  "kernelspec": {
   "display_name": "Python 3",
   "language": "python",
   "name": "python3"
  },
  "language_info": {
   "codemirror_mode": {
    "name": "ipython",
    "version": 3
   },
   "file_extension": ".py",
   "mimetype": "text/x-python",
   "name": "python",
   "nbconvert_exporter": "python",
   "pygments_lexer": "ipython3",
   "version": "3.11.13"
  },
  "papermill": {
   "default_parameters": {},
   "duration": 8.212215,
   "end_time": "2025-08-11T07:26:40.694963",
   "environment_variables": {},
   "exception": null,
   "input_path": "__notebook__.ipynb",
   "output_path": "__notebook__.ipynb",
   "parameters": {},
   "start_time": "2025-08-11T07:26:32.482748",
   "version": "2.6.0"
  }
 },
 "nbformat": 4,
 "nbformat_minor": 5
}

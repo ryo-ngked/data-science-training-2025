{
 "cells": [
  {
   "cell_type": "markdown",
   "id": "11ee859c",
   "metadata": {
    "papermill": {
     "duration": 0.005095,
     "end_time": "2025-08-13T03:34:57.943860",
     "exception": false,
     "start_time": "2025-08-13T03:34:57.938765",
     "status": "completed"
    },
    "tags": []
   },
   "source": [
    "**This notebook is an exercise in the [Intro to Programming](https://www.kaggle.com/learn/intro-to-programming) course.  You can reference the tutorial at [this link](https://www.kaggle.com/alexisbcook/intro-to-lists).**\n",
    "\n",
    "---\n"
   ]
  },
  {
   "cell_type": "markdown",
   "id": "ee71ee98",
   "metadata": {
    "papermill": {
     "duration": 0.004083,
     "end_time": "2025-08-13T03:34:57.952493",
     "exception": false,
     "start_time": "2025-08-13T03:34:57.948410",
     "status": "completed"
    },
    "tags": []
   },
   "source": [
    "In the tutorial, you learned how to define and modify Python lists.  In this exercise, you will use your new knowledge to solve several problems.\n",
    "\n",
    "# Set up the notebook\n",
    "\n",
    "Run the next code cell without changes to set up the notebook."
   ]
  },
  {
   "cell_type": "code",
   "execution_count": 1,
   "id": "0cb8481b",
   "metadata": {
    "execution": {
     "iopub.execute_input": "2025-08-13T03:34:57.962166Z",
     "iopub.status.busy": "2025-08-13T03:34:57.961867Z",
     "iopub.status.idle": "2025-08-13T03:34:59.765655Z",
     "shell.execute_reply": "2025-08-13T03:34:59.764629Z"
    },
    "papermill": {
     "duration": 1.81044,
     "end_time": "2025-08-13T03:34:59.767207",
     "exception": false,
     "start_time": "2025-08-13T03:34:57.956767",
     "status": "completed"
    },
    "tags": []
   },
   "outputs": [
    {
     "name": "stdout",
     "output_type": "stream",
     "text": [
      "Setup complete.\n"
     ]
    }
   ],
   "source": [
    "from learntools.core import binder\n",
    "binder.bind(globals())\n",
    "from learntools.intro_to_programming.ex5 import *\n",
    "print('Setup complete.')"
   ]
  },
  {
   "cell_type": "markdown",
   "id": "7faa30bd",
   "metadata": {
    "papermill": {
     "duration": 0.004199,
     "end_time": "2025-08-13T03:34:59.776419",
     "exception": false,
     "start_time": "2025-08-13T03:34:59.772220",
     "status": "completed"
    },
    "tags": []
   },
   "source": [
    "# Question 1\n",
    "\n",
    "You own a restaurant with five food dishes, organized in the Python list `menu` below.  One day, you decide to:\n",
    "- remove bean soup (`'bean soup'`) from the menu, and\n",
    "- add roasted beet salad (`'roasted beet salad'`) to the menu.\n",
    "\n",
    "Implement this change to the list below.  While completing this task, \n",
    "- do not change the line that creates the `menu` list.  \n",
    "- your answer should use `.remove()` and `.append()`.  "
   ]
  },
  {
   "cell_type": "code",
   "execution_count": 2,
   "id": "f7af9777",
   "metadata": {
    "execution": {
     "iopub.execute_input": "2025-08-13T03:34:59.786743Z",
     "iopub.status.busy": "2025-08-13T03:34:59.785890Z",
     "iopub.status.idle": "2025-08-13T03:34:59.794654Z",
     "shell.execute_reply": "2025-08-13T03:34:59.793863Z"
    },
    "papermill": {
     "duration": 0.015111,
     "end_time": "2025-08-13T03:34:59.795958",
     "exception": false,
     "start_time": "2025-08-13T03:34:59.780847",
     "status": "completed"
    },
    "tags": []
   },
   "outputs": [
    {
     "name": "stdout",
     "output_type": "stream",
     "text": [
      "['stewed meat with onions', 'risotto with trout and shrimp', 'fish soup with cream and onion', 'gyro', 'roasted beet salad']\n"
     ]
    },
    {
     "data": {
      "application/javascript": [
       "parent.postMessage({\"jupyterEvent\": \"custom.exercise_interaction\", \"data\": {\"outcomeType\": 1, \"valueTowardsCompletion\": 0.2, \"interactionType\": 1, \"questionType\": 2, \"questionId\": \"1_FoodMenu\", \"learnToolsVersion\": \"0.3.5\", \"failureMessage\": \"\", \"exceptionClass\": \"\", \"trace\": \"\"}}, \"*\")"
      ],
      "text/plain": [
       "<IPython.core.display.Javascript object>"
      ]
     },
     "metadata": {},
     "output_type": "display_data"
    },
    {
     "data": {
      "text/markdown": [
       "<span style=\"color:#33cc33\">Correct</span>"
      ],
      "text/plain": [
       "Correct"
      ]
     },
     "metadata": {},
     "output_type": "display_data"
    }
   ],
   "source": [
    "# Do not change: Initial menu for your restaurant\n",
    "menu = ['stewed meat with onions', 'bean soup', 'risotto with trout and shrimp',\n",
    "       'fish soup with cream and onion', 'gyro']\n",
    "\n",
    "# TODO: remove 'bean soup', and add 'roasted beet salad' to the end of the menu\n",
    "menu.remove(\"bean soup\")\n",
    "menu.append(\"roasted beet salad\")\n",
    "print (menu)\n",
    "\n",
    "# Do not change: Check your answer\n",
    "q1.check()"
   ]
  },
  {
   "cell_type": "code",
   "execution_count": 3,
   "id": "edba6f4d",
   "metadata": {
    "execution": {
     "iopub.execute_input": "2025-08-13T03:34:59.807140Z",
     "iopub.status.busy": "2025-08-13T03:34:59.806402Z",
     "iopub.status.idle": "2025-08-13T03:34:59.809996Z",
     "shell.execute_reply": "2025-08-13T03:34:59.809364Z"
    },
    "papermill": {
     "duration": 0.010631,
     "end_time": "2025-08-13T03:34:59.811311",
     "exception": false,
     "start_time": "2025-08-13T03:34:59.800680",
     "status": "completed"
    },
    "tags": []
   },
   "outputs": [],
   "source": [
    "# Uncomment to see a hint\n",
    "#q1.hint()\n",
    "\n",
    "# Uncomment to see the solution\n",
    "#q1.solution()"
   ]
  },
  {
   "cell_type": "markdown",
   "id": "c7b950c6",
   "metadata": {
    "papermill": {
     "duration": 0.004236,
     "end_time": "2025-08-13T03:34:59.820226",
     "exception": false,
     "start_time": "2025-08-13T03:34:59.815990",
     "status": "completed"
    },
    "tags": []
   },
   "source": [
    "# Question 2\n",
    "\n",
    "The list `num_customers` contains the number of customers who came into your restaurant every day over the last month (which lasted thirty days).  Fill in values for each of the following:\n",
    "- `avg_first_seven` - average number of customers who visited in the first seven days\n",
    "- `avg_last_seven` - average number of customers who visited in the last seven days\n",
    "- `max_month` - number of customers on the day that got the most customers in the last month\n",
    "- `min_month` - number of customers on the day that got the least customers in the last month\n",
    "\n",
    "Answer this question by writing code.  For instance, if you have to find the minimum value in a list, use `min()` instead of scanning for the smallest value and directly filling in a number."
   ]
  },
  {
   "cell_type": "code",
   "execution_count": 4,
   "id": "188af4b9",
   "metadata": {
    "execution": {
     "iopub.execute_input": "2025-08-13T03:34:59.831043Z",
     "iopub.status.busy": "2025-08-13T03:34:59.830755Z",
     "iopub.status.idle": "2025-08-13T03:34:59.839196Z",
     "shell.execute_reply": "2025-08-13T03:34:59.838493Z"
    },
    "papermill": {
     "duration": 0.015968,
     "end_time": "2025-08-13T03:34:59.840557",
     "exception": false,
     "start_time": "2025-08-13T03:34:59.824589",
     "status": "completed"
    },
    "tags": []
   },
   "outputs": [
    {
     "data": {
      "application/javascript": [
       "parent.postMessage({\"jupyterEvent\": \"custom.exercise_interaction\", \"data\": {\"outcomeType\": 1, \"valueTowardsCompletion\": 0.2, \"interactionType\": 1, \"questionType\": 1, \"questionId\": \"2_NumCustomers\", \"learnToolsVersion\": \"0.3.5\", \"failureMessage\": \"\", \"exceptionClass\": \"\", \"trace\": \"\"}}, \"*\")"
      ],
      "text/plain": [
       "<IPython.core.display.Javascript object>"
      ]
     },
     "metadata": {},
     "output_type": "display_data"
    },
    {
     "data": {
      "text/markdown": [
       "<span style=\"color:#33cc33\">Correct</span>"
      ],
      "text/plain": [
       "Correct"
      ]
     },
     "metadata": {},
     "output_type": "display_data"
    }
   ],
   "source": [
    "# Do not change: Number of customers each day for the last month\n",
    "num_customers = [137, 147, 135, 128, 170, 174, 165, 146, 126, 159,\n",
    "                 141, 148, 132, 147, 168, 153, 170, 161, 148, 152,\n",
    "                 141, 151, 131, 149, 164, 163, 143, 143, 166, 171]\n",
    "\n",
    "# TODO: Fill in values for the variables below\n",
    "avg_first_seven = sum(num_customers[:7])/7\n",
    "avg_last_seven = sum(num_customers[-7:])/7 \n",
    "max_month = max(num_customers)\n",
    "min_month = min(num_customers)\n",
    "\n",
    "# Do not change: Check your answer\n",
    "q2.check()"
   ]
  },
  {
   "cell_type": "code",
   "execution_count": 5,
   "id": "652f1f3f",
   "metadata": {
    "execution": {
     "iopub.execute_input": "2025-08-13T03:34:59.851860Z",
     "iopub.status.busy": "2025-08-13T03:34:59.851571Z",
     "iopub.status.idle": "2025-08-13T03:34:59.855298Z",
     "shell.execute_reply": "2025-08-13T03:34:59.854508Z"
    },
    "papermill": {
     "duration": 0.01097,
     "end_time": "2025-08-13T03:34:59.856679",
     "exception": false,
     "start_time": "2025-08-13T03:34:59.845709",
     "status": "completed"
    },
    "tags": []
   },
   "outputs": [],
   "source": [
    "# Uncomment to see a hint\n",
    "#q2.hint()\n",
    "\n",
    "# Uncomment to see the solution\n",
    "#q2.solution()"
   ]
  },
  {
   "cell_type": "markdown",
   "id": "fff87588",
   "metadata": {
    "papermill": {
     "duration": 0.004293,
     "end_time": "2025-08-13T03:34:59.865674",
     "exception": false,
     "start_time": "2025-08-13T03:34:59.861381",
     "status": "completed"
    },
    "tags": []
   },
   "source": [
    "# Question 3\n",
    "\n",
    "In the tutorial, we gave an example of a Python string with information that was better as a list."
   ]
  },
  {
   "cell_type": "code",
   "execution_count": 6,
   "id": "bd00bae2",
   "metadata": {
    "execution": {
     "iopub.execute_input": "2025-08-13T03:34:59.875836Z",
     "iopub.status.busy": "2025-08-13T03:34:59.875559Z",
     "iopub.status.idle": "2025-08-13T03:34:59.879422Z",
     "shell.execute_reply": "2025-08-13T03:34:59.878642Z"
    },
    "papermill": {
     "duration": 0.010622,
     "end_time": "2025-08-13T03:34:59.880754",
     "exception": false,
     "start_time": "2025-08-13T03:34:59.870132",
     "status": "completed"
    },
    "tags": []
   },
   "outputs": [],
   "source": [
    "flowers = \"pink primrose,hard-leaved pocket orchid,canterbury bells,sweet pea,english marigold,tiger lily,moon orchid,bird of paradise,monkshood,globe thistle\""
   ]
  },
  {
   "cell_type": "markdown",
   "id": "679c2717",
   "metadata": {
    "papermill": {
     "duration": 0.004381,
     "end_time": "2025-08-13T03:34:59.889893",
     "exception": false,
     "start_time": "2025-08-13T03:34:59.885512",
     "status": "completed"
    },
    "tags": []
   },
   "source": [
    "You can actually use Python to quickly turn this string into a list with `.split()`.  In the parentheses, we need to provide the character should be used to mark the end of one list item and the beginning of another, and enclose it in quotation marks.  In this case, that character is a comma."
   ]
  },
  {
   "cell_type": "code",
   "execution_count": 7,
   "id": "778dd51e",
   "metadata": {
    "execution": {
     "iopub.execute_input": "2025-08-13T03:34:59.900250Z",
     "iopub.status.busy": "2025-08-13T03:34:59.899914Z",
     "iopub.status.idle": "2025-08-13T03:34:59.904421Z",
     "shell.execute_reply": "2025-08-13T03:34:59.903563Z"
    },
    "papermill": {
     "duration": 0.011334,
     "end_time": "2025-08-13T03:34:59.905780",
     "exception": false,
     "start_time": "2025-08-13T03:34:59.894446",
     "status": "completed"
    },
    "tags": []
   },
   "outputs": [
    {
     "name": "stdout",
     "output_type": "stream",
     "text": [
      "['pink primrose', 'hard-leaved pocket orchid', 'canterbury bells', 'sweet pea', 'english marigold', 'tiger lily', 'moon orchid', 'bird of paradise', 'monkshood', 'globe thistle']\n"
     ]
    }
   ],
   "source": [
    " print(flowers.split(\",\"))"
   ]
  },
  {
   "cell_type": "markdown",
   "id": "31bf681b",
   "metadata": {
    "papermill": {
     "duration": 0.004416,
     "end_time": "2025-08-13T03:34:59.915088",
     "exception": false,
     "start_time": "2025-08-13T03:34:59.910672",
     "status": "completed"
    },
    "tags": []
   },
   "source": [
    "Now it is your turn to try this out!  Create two Python lists:\n",
    "- `letters` should be a Python list where each entry is an uppercase letter of the English alphabet.  For instance, the first two entries should be `\"A\"` and `\"B\"`, and the final two entries should be `\"Y\"` and `\"Z\"`.  Use the string `alphabet` to create this list.\n",
    "- `address` should be a Python list where each row in `address` is a different item in the list.  Currently, each row in `address` is separated by a comma. "
   ]
  },
  {
   "cell_type": "code",
   "execution_count": 8,
   "id": "adc86289",
   "metadata": {
    "execution": {
     "iopub.execute_input": "2025-08-13T03:34:59.925659Z",
     "iopub.status.busy": "2025-08-13T03:34:59.925328Z",
     "iopub.status.idle": "2025-08-13T03:34:59.932419Z",
     "shell.execute_reply": "2025-08-13T03:34:59.931712Z"
    },
    "papermill": {
     "duration": 0.013994,
     "end_time": "2025-08-13T03:34:59.933652",
     "exception": false,
     "start_time": "2025-08-13T03:34:59.919658",
     "status": "completed"
    },
    "tags": []
   },
   "outputs": [
    {
     "data": {
      "application/javascript": [
       "parent.postMessage({\"jupyterEvent\": \"custom.exercise_interaction\", \"data\": {\"outcomeType\": 1, \"valueTowardsCompletion\": 0.2, \"interactionType\": 1, \"questionType\": 1, \"questionId\": \"3_SplitString\", \"learnToolsVersion\": \"0.3.5\", \"failureMessage\": \"\", \"exceptionClass\": \"\", \"trace\": \"\"}}, \"*\")"
      ],
      "text/plain": [
       "<IPython.core.display.Javascript object>"
      ]
     },
     "metadata": {},
     "output_type": "display_data"
    },
    {
     "data": {
      "text/markdown": [
       "<span style=\"color:#33cc33\">Correct</span>"
      ],
      "text/plain": [
       "Correct"
      ]
     },
     "metadata": {},
     "output_type": "display_data"
    }
   ],
   "source": [
    "# DO not change: Define two Python strings\n",
    "alphabet = \"A.B.C.D.E.F.G.H.I.J.K.L.M.N.O.P.Q.R.S.T.U.V.W.X.Y.Z\"\n",
    "address = \"Mr. H. Potter,The cupboard under the Stairs,4 Privet Drive,Little Whinging,Surrey\"\n",
    "\n",
    "# TODO: Convert strings into Python lists\n",
    "letters = alphabet.split(\".\")\n",
    "formatted_address = address.split(\",\")\n",
    "\n",
    "# Do not change: Check your answer\n",
    "q3.check()"
   ]
  },
  {
   "cell_type": "code",
   "execution_count": 9,
   "id": "dce0d849",
   "metadata": {
    "execution": {
     "iopub.execute_input": "2025-08-13T03:34:59.944636Z",
     "iopub.status.busy": "2025-08-13T03:34:59.944313Z",
     "iopub.status.idle": "2025-08-13T03:34:59.947875Z",
     "shell.execute_reply": "2025-08-13T03:34:59.947182Z"
    },
    "papermill": {
     "duration": 0.010468,
     "end_time": "2025-08-13T03:34:59.949132",
     "exception": false,
     "start_time": "2025-08-13T03:34:59.938664",
     "status": "completed"
    },
    "tags": []
   },
   "outputs": [],
   "source": [
    "# Uncomment to see a hint\n",
    "#q3.hint()\n",
    "\n",
    "# Uncomment to see the solution\n",
    "#q3.solution()"
   ]
  },
  {
   "cell_type": "markdown",
   "id": "41b50243",
   "metadata": {
    "papermill": {
     "duration": 0.004797,
     "end_time": "2025-08-13T03:34:59.959037",
     "exception": false,
     "start_time": "2025-08-13T03:34:59.954240",
     "status": "completed"
    },
    "tags": []
   },
   "source": [
    "# Question 4\n",
    "\n",
    "In the Python course, you'll learn all about **list comprehensions**, which allow you to create a list based on the values in another list.  In this question, you'll get a brief preview of how they work.\n",
    "\n",
    "Say we're working with the list below."
   ]
  },
  {
   "cell_type": "code",
   "execution_count": 10,
   "id": "9a73a079",
   "metadata": {
    "execution": {
     "iopub.execute_input": "2025-08-13T03:34:59.969984Z",
     "iopub.status.busy": "2025-08-13T03:34:59.969694Z",
     "iopub.status.idle": "2025-08-13T03:34:59.973715Z",
     "shell.execute_reply": "2025-08-13T03:34:59.972882Z"
    },
    "papermill": {
     "duration": 0.011112,
     "end_time": "2025-08-13T03:34:59.975110",
     "exception": false,
     "start_time": "2025-08-13T03:34:59.963998",
     "status": "completed"
    },
    "tags": []
   },
   "outputs": [],
   "source": [
    "test_ratings = [1, 2, 3, 4, 5]"
   ]
  },
  {
   "cell_type": "markdown",
   "id": "aee38b3e",
   "metadata": {
    "papermill": {
     "duration": 0.004861,
     "end_time": "2025-08-13T03:34:59.985052",
     "exception": false,
     "start_time": "2025-08-13T03:34:59.980191",
     "status": "completed"
    },
    "tags": []
   },
   "source": [
    "Then we can use this list (`test_ratings`) to create a new list (`test_liked`) where each item has been turned into a boolean, depending on whether or not the item is greater than or equal to four."
   ]
  },
  {
   "cell_type": "code",
   "execution_count": 11,
   "id": "c5206958",
   "metadata": {
    "execution": {
     "iopub.execute_input": "2025-08-13T03:34:59.995857Z",
     "iopub.status.busy": "2025-08-13T03:34:59.995573Z",
     "iopub.status.idle": "2025-08-13T03:35:00.000140Z",
     "shell.execute_reply": "2025-08-13T03:34:59.999251Z"
    },
    "papermill": {
     "duration": 0.011683,
     "end_time": "2025-08-13T03:35:00.001550",
     "exception": false,
     "start_time": "2025-08-13T03:34:59.989867",
     "status": "completed"
    },
    "tags": []
   },
   "outputs": [
    {
     "name": "stdout",
     "output_type": "stream",
     "text": [
      "[False, False, False, True, True]\n"
     ]
    }
   ],
   "source": [
    "test_liked = [i>=4 for i in test_ratings]\n",
    "print(test_liked)"
   ]
  },
  {
   "cell_type": "markdown",
   "id": "c19c3013",
   "metadata": {
    "papermill": {
     "duration": 0.005071,
     "end_time": "2025-08-13T03:35:00.011881",
     "exception": false,
     "start_time": "2025-08-13T03:35:00.006810",
     "status": "completed"
    },
    "tags": []
   },
   "source": [
    "In this question, you'll use this list comprehension to define a function `percentage_liked()` that takes one argument as input:\n",
    "- `ratings`: list of ratings that people gave to a movie, where each rating is a number between 1-5, inclusive\n",
    "\n",
    "We say someone liked the movie, if they gave a rating of either 4 or 5.  Your function should return the percentage of people who liked the movie.\n",
    "\n",
    "For instance, if we supply a value of `[1, 2, 3, 4, 5, 4, 5, 1]`, then 50% (4/8) of the people liked the movie, and the function should return `0.5`.\n",
    "\n",
    "Part of the function has already been completed for you.  You need only use `list_liked` to calculate `percentage_liked`."
   ]
  },
  {
   "cell_type": "code",
   "execution_count": 12,
   "id": "434887f6",
   "metadata": {
    "execution": {
     "iopub.execute_input": "2025-08-13T03:35:00.023462Z",
     "iopub.status.busy": "2025-08-13T03:35:00.023149Z",
     "iopub.status.idle": "2025-08-13T03:35:00.031068Z",
     "shell.execute_reply": "2025-08-13T03:35:00.030226Z"
    },
    "papermill": {
     "duration": 0.015415,
     "end_time": "2025-08-13T03:35:00.032539",
     "exception": false,
     "start_time": "2025-08-13T03:35:00.017124",
     "status": "completed"
    },
    "tags": []
   },
   "outputs": [
    {
     "data": {
      "application/javascript": [
       "parent.postMessage({\"jupyterEvent\": \"custom.exercise_interaction\", \"data\": {\"outcomeType\": 1, \"valueTowardsCompletion\": 0.2, \"interactionType\": 1, \"questionType\": 2, \"questionId\": \"4_PercentageLiked\", \"learnToolsVersion\": \"0.3.5\", \"failureMessage\": \"\", \"exceptionClass\": \"\", \"trace\": \"\"}}, \"*\")"
      ],
      "text/plain": [
       "<IPython.core.display.Javascript object>"
      ]
     },
     "metadata": {},
     "output_type": "display_data"
    },
    {
     "data": {
      "text/markdown": [
       "<span style=\"color:#33cc33\">Correct</span>"
      ],
      "text/plain": [
       "Correct"
      ]
     },
     "metadata": {},
     "output_type": "display_data"
    }
   ],
   "source": [
    "\n",
    "def percentage_liked(ratings):\n",
    "    list_liked = [i>=4 for i in ratings]\n",
    "    # TODO: Complete the function\n",
    "    percentage_liked = sum(list_liked)/ len(list_liked)\n",
    "    return percentage_liked\n",
    "\n",
    "# Do not change: should return 0.5\n",
    "percentage_liked([1, 2, 3, 4, 5, 4, 5, 1])\n",
    "\n",
    "# Do not change: Check your answer\n",
    "q4.check()"
   ]
  },
  {
   "cell_type": "code",
   "execution_count": 13,
   "id": "06b31d19",
   "metadata": {
    "execution": {
     "iopub.execute_input": "2025-08-13T03:35:00.045184Z",
     "iopub.status.busy": "2025-08-13T03:35:00.044890Z",
     "iopub.status.idle": "2025-08-13T03:35:00.048499Z",
     "shell.execute_reply": "2025-08-13T03:35:00.047828Z"
    },
    "papermill": {
     "duration": 0.011647,
     "end_time": "2025-08-13T03:35:00.049839",
     "exception": false,
     "start_time": "2025-08-13T03:35:00.038192",
     "status": "completed"
    },
    "tags": []
   },
   "outputs": [],
   "source": [
    "# Uncomment to see a hint\n",
    "#q4.hint()\n",
    "\n",
    "# Uncomment to see the solution\n",
    "#q4.solution()"
   ]
  },
  {
   "cell_type": "markdown",
   "id": "98ee1094",
   "metadata": {
    "papermill": {
     "duration": 0.005017,
     "end_time": "2025-08-13T03:35:00.060278",
     "exception": false,
     "start_time": "2025-08-13T03:35:00.055261",
     "status": "completed"
    },
    "tags": []
   },
   "source": [
    "# 🌶️ Question 5\n",
    " \n",
    "Say you're doing analytics for a website.  You need to write a function that returns the percentage growth in the total number of users relative to a specified number of years ago.\n",
    "\n",
    "Your function `percentage_growth()` should take two arguments as input:\n",
    "- `num_users` = Python list with the total number of users each year.  So `num_users[0]` is the total number of users in the first year, `num_users[1]` is the total number of users in the second year, and so on.  The final entry in the list gives the total number of users in the most recently completed year.\n",
    "- `yrs_ago` = number of years to go back in time when calculating the growth percentage\n",
    "\n",
    "For instance, say `num_users = [920344, 1043553, 1204334, 1458996, 1503323, 1593432, 1623463, 1843064, 1930992, 2001078]`.\n",
    "- if `yrs_ago = 1`, we want the function to return a value of about `0.036`. This corresponds to a percentage growth of approximately 3.6%, calculated as (2001078 - 1930992)/1930992.\n",
    "- if `years_ago = 7`, we would want to return approximately `0.66`.  This corresponds to a percentage growth of approximately 66%, calculated as (2001078 - 1204334)/1204334.\n",
    "\n",
    "Your coworker sent you a draft of a function, but it doesn't seem to be doing the correct calculation.  Can you figure out what has gone wrong and make the needed changes?"
   ]
  },
  {
   "cell_type": "code",
   "execution_count": 14,
   "id": "c7b37e53",
   "metadata": {
    "execution": {
     "iopub.execute_input": "2025-08-13T03:35:00.072316Z",
     "iopub.status.busy": "2025-08-13T03:35:00.071556Z",
     "iopub.status.idle": "2025-08-13T03:35:00.080377Z",
     "shell.execute_reply": "2025-08-13T03:35:00.079608Z"
    },
    "papermill": {
     "duration": 0.016277,
     "end_time": "2025-08-13T03:35:00.081807",
     "exception": false,
     "start_time": "2025-08-13T03:35:00.065530",
     "status": "completed"
    },
    "tags": []
   },
   "outputs": [
    {
     "name": "stdout",
     "output_type": "stream",
     "text": [
      "0.03629533421163837\n",
      "0.6615639847417742\n"
     ]
    },
    {
     "data": {
      "application/javascript": [
       "parent.postMessage({\"jupyterEvent\": \"custom.exercise_interaction\", \"data\": {\"outcomeType\": 1, \"valueTowardsCompletion\": 0.2, \"interactionType\": 1, \"questionType\": 2, \"questionId\": \"5_WebsiteAnalytics\", \"learnToolsVersion\": \"0.3.5\", \"failureMessage\": \"\", \"exceptionClass\": \"\", \"trace\": \"\"}}, \"*\")"
      ],
      "text/plain": [
       "<IPython.core.display.Javascript object>"
      ]
     },
     "metadata": {},
     "output_type": "display_data"
    },
    {
     "data": {
      "text/markdown": [
       "<span style=\"color:#33cc33\">Correct</span>"
      ],
      "text/plain": [
       "Correct"
      ]
     },
     "metadata": {},
     "output_type": "display_data"
    }
   ],
   "source": [
    "# TODO: Edit the function\n",
    "def percentage_growth(num_users, yrs_ago):\n",
    "    growth = (num_users[len(num_users)-1] - num_users[len(num_users)-yrs_ago -1])/num_users[len(num_users)-yrs_ago-1]\n",
    "    return growth\n",
    "\n",
    "# Do not change: Variable for calculating some test examples\n",
    "num_users_test = [920344, 1043553, 1204334, 1458996, 1503323, 1593432, 1623463, 1843064, 1930992, 2001078]\n",
    "\n",
    "# Do not change: Should return .036\n",
    "print(percentage_growth(num_users_test, 1))\n",
    "\n",
    "# Do not change: Should return 0.66\n",
    "print(percentage_growth(num_users_test, 7))\n",
    "\n",
    "# Do not change: Check your answer\n",
    "q5.check()"
   ]
  },
  {
   "cell_type": "code",
   "execution_count": 15,
   "id": "b3bc12de",
   "metadata": {
    "execution": {
     "iopub.execute_input": "2025-08-13T03:35:00.094567Z",
     "iopub.status.busy": "2025-08-13T03:35:00.093831Z",
     "iopub.status.idle": "2025-08-13T03:35:00.100279Z",
     "shell.execute_reply": "2025-08-13T03:35:00.099505Z"
    },
    "papermill": {
     "duration": 0.014306,
     "end_time": "2025-08-13T03:35:00.101706",
     "exception": false,
     "start_time": "2025-08-13T03:35:00.087400",
     "status": "completed"
    },
    "tags": []
   },
   "outputs": [
    {
     "data": {
      "application/javascript": [
       "parent.postMessage({\"jupyterEvent\": \"custom.exercise_interaction\", \"data\": {\"interactionType\": 2, \"questionType\": 2, \"questionId\": \"5_WebsiteAnalytics\", \"learnToolsVersion\": \"0.3.5\", \"valueTowardsCompletion\": 0.0, \"failureMessage\": \"\", \"exceptionClass\": \"\", \"trace\": \"\", \"outcomeType\": 4}}, \"*\")"
      ],
      "text/plain": [
       "<IPython.core.display.Javascript object>"
      ]
     },
     "metadata": {},
     "output_type": "display_data"
    },
    {
     "data": {
      "text/markdown": [
       "<span style=\"color:#3366cc\">Hint:</span> It's already correct that you need to subtract two numbers from the list, before dividing by an item in the list. You only need to modify the positions for the items that are pulled from the list. \n",
       "\n",
       "In order to pull the final entry in the `num_users` list, you would need to use `num_users[len(num_users)-1]`.  This corresponds to the number of users in the most recently completed year.  \n",
       "\n",
       "Then, to get the number of users from one year prior, you should use `num_users[len(num_users)-2]`.  \n",
       "\n",
       "To get the number of users from `yrs_ago` years ago, use `num_users[len(num_users)-yrs_ago-1]`."
      ],
      "text/plain": [
       "Hint: It's already correct that you need to subtract two numbers from the list, before dividing by an item in the list. You only need to modify the positions for the items that are pulled from the list. \n",
       "\n",
       "In order to pull the final entry in the `num_users` list, you would need to use `num_users[len(num_users)-1]`.  This corresponds to the number of users in the most recently completed year.  \n",
       "\n",
       "Then, to get the number of users from one year prior, you should use `num_users[len(num_users)-2]`.  \n",
       "\n",
       "To get the number of users from `yrs_ago` years ago, use `num_users[len(num_users)-yrs_ago-1]`."
      ]
     },
     "metadata": {},
     "output_type": "display_data"
    }
   ],
   "source": [
    "# Uncomment to see a hint\n",
    "q5.hint()\n",
    "\n",
    "# Uncomment to see the solution\n",
    "#q5.solution()"
   ]
  },
  {
   "cell_type": "markdown",
   "id": "04c4cd6d",
   "metadata": {
    "papermill": {
     "duration": 0.005517,
     "end_time": "2025-08-13T03:35:00.113028",
     "exception": false,
     "start_time": "2025-08-13T03:35:00.107511",
     "status": "completed"
    },
    "tags": []
   },
   "source": [
    "# Congratulations!\n",
    "\n",
    "Congratulations for finishing the Intro to Programming course!  You should be proud of your very first steps with learning programming.  As next steps, we recommend taking:\n",
    "- the **[Python course](http://www.kaggle.com/learn/python)**, and \n",
    "- the **[Intro to Machine Learning course](https://www.kaggle.com/learn/intro-to-machine-learning)**."
   ]
  },
  {
   "cell_type": "markdown",
   "id": "91823f8d",
   "metadata": {
    "papermill": {
     "duration": 0.00555,
     "end_time": "2025-08-13T03:35:00.124418",
     "exception": false,
     "start_time": "2025-08-13T03:35:00.118868",
     "status": "completed"
    },
    "tags": []
   },
   "source": [
    "---\n",
    "\n",
    "\n",
    "\n",
    "\n",
    "*Have questions or comments? Visit the [course discussion forum](https://www.kaggle.com/learn/intro-to-programming/discussion) to chat with other learners.*"
   ]
  }
 ],
 "metadata": {
  "kaggle": {
   "accelerator": "none",
   "dataSources": [],
   "isGpuEnabled": false,
   "isInternetEnabled": false,
   "language": "python",
   "sourceType": "notebook"
  },
  "kernelspec": {
   "display_name": "Python 3",
   "language": "python",
   "name": "python3"
  },
  "language_info": {
   "codemirror_mode": {
    "name": "ipython",
    "version": 3
   },
   "file_extension": ".py",
   "mimetype": "text/x-python",
   "name": "python",
   "nbconvert_exporter": "python",
   "pygments_lexer": "ipython3",
   "version": "3.11.13"
  },
  "papermill": {
   "default_parameters": {},
   "duration": 7.261633,
   "end_time": "2025-08-13T03:35:00.650219",
   "environment_variables": {},
   "exception": null,
   "input_path": "__notebook__.ipynb",
   "output_path": "__notebook__.ipynb",
   "parameters": {},
   "start_time": "2025-08-13T03:34:53.388586",
   "version": "2.6.0"
  }
 },
 "nbformat": 4,
 "nbformat_minor": 5
}
